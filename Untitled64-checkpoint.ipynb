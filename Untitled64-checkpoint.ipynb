{
 "cells": [
  {
   "cell_type": "code",
   "execution_count": 25,
   "id": "ddd811c6",
   "metadata": {},
   "outputs": [],
   "source": [
    "import findspark\n",
    "findspark.init()"
   ]
  },
  {
   "cell_type": "code",
   "execution_count": 26,
   "id": "c6d90474",
   "metadata": {},
   "outputs": [],
   "source": [
    "from pyspark.sql import SparkSession\n",
    "spark=SparkSession.builder.master(\"local\").appName(\"TestSpark\").getOrCreate()#for creating sparksession\n",
    "sc=spark.sparkContext"
   ]
  },
  {
   "cell_type": "code",
   "execution_count": 27,
   "id": "cb2554ca",
   "metadata": {},
   "outputs": [
    {
     "data": {
      "text/html": [
       "\n",
       "            <div>\n",
       "                <p><b>SparkSession - in-memory</b></p>\n",
       "                \n",
       "        <div>\n",
       "            <p><b>SparkContext</b></p>\n",
       "\n",
       "            <p><a href=\"http://DESKTOP-9VK58RC:4041\">Spark UI</a></p>\n",
       "\n",
       "            <dl>\n",
       "              <dt>Version</dt>\n",
       "                <dd><code>v3.0.3</code></dd>\n",
       "              <dt>Master</dt>\n",
       "                <dd><code>local</code></dd>\n",
       "              <dt>AppName</dt>\n",
       "                <dd><code>TestSpark</code></dd>\n",
       "            </dl>\n",
       "        </div>\n",
       "        \n",
       "            </div>\n",
       "        "
      ],
      "text/plain": [
       "<pyspark.sql.session.SparkSession at 0x16d79340040>"
      ]
     },
     "execution_count": 27,
     "metadata": {},
     "output_type": "execute_result"
    }
   ],
   "source": [
    "spark"
   ]
  },
  {
   "cell_type": "code",
   "execution_count": 28,
   "id": "1420b090",
   "metadata": {},
   "outputs": [],
   "source": [
    "spark = SparkSession.builder.master (\"local \").appName (\"test\").getOrCreate()\n",
    "data = [\n",
    "('James','','smith','1991-04-01','M',3000),\n",
    "('MIchael','rose','','2000-05-27','M',4000),\n",
    "('robert','anne','jones','1967-12-01','M',5000),\n",
    "('maria','','williams','1978-09-05','F',4000),\n",
    "('jen','mary','brown','1980-02-17','F',-1)\n",
    "     ]"
   ]
  },
  {
   "cell_type": "code",
   "execution_count": 29,
   "id": "4bccde80",
   "metadata": {},
   "outputs": [
    {
     "name": "stdout",
     "output_type": "stream",
     "text": [
      "root\n",
      " |-- firstname: string (nullable = true)\n",
      " |-- middlename: string (nullable = true)\n",
      " |-- lastname: string (nullable = true)\n",
      " |-- dob: string (nullable = true)\n",
      " |-- gender: string (nullable = true)\n",
      " |-- salary: long (nullable = true)\n",
      "\n",
      "None\n"
     ]
    }
   ],
   "source": [
    "columns = [\"firstname\" , \"middlename\", \"lastname\", \"dob\" , \"gender\", \"salary\"]#defining column names\n",
    "\n",
    "df = spark.createDataFrame(data= data, schema = columns)#creating data frame\n",
    "\n",
    "print(df.printSchema())"
   ]
  },
  {
   "cell_type": "code",
   "execution_count": 30,
   "id": "c5ec504f",
   "metadata": {},
   "outputs": [],
   "source": [
    "from pyspark.sql import SparkSession\n",
    "from pyspark.sql.types import StructType, StructField, IntegerType, StringType\n",
    "import pyspark.sql.functions as func"
   ]
  },
  {
   "cell_type": "code",
   "execution_count": 31,
   "id": "de207355",
   "metadata": {},
   "outputs": [
    {
     "data": {
      "text/html": [
       "\n",
       "            <div>\n",
       "                <p><b>SparkSession - in-memory</b></p>\n",
       "                \n",
       "        <div>\n",
       "            <p><b>SparkContext</b></p>\n",
       "\n",
       "            <p><a href=\"http://DESKTOP-9VK58RC:4041\">Spark UI</a></p>\n",
       "\n",
       "            <dl>\n",
       "              <dt>Version</dt>\n",
       "                <dd><code>v3.0.3</code></dd>\n",
       "              <dt>Master</dt>\n",
       "                <dd><code>local</code></dd>\n",
       "              <dt>AppName</dt>\n",
       "                <dd><code>TestSpark</code></dd>\n",
       "            </dl>\n",
       "        </div>\n",
       "        \n",
       "            </div>\n",
       "        "
      ],
      "text/plain": [
       "<pyspark.sql.session.SparkSession at 0x16d79340040>"
      ]
     },
     "execution_count": 31,
     "metadata": {},
     "output_type": "execute_result"
    }
   ],
   "source": [
    "spark=SparkSession.builder.master(\"local\").appName(\"TestSpark\").getOrCreate()\n",
    "sc=spark.sparkContext\n",
    "spark"
   ]
  },
  {
   "cell_type": "code",
   "execution_count": 32,
   "id": "27ae54c4",
   "metadata": {},
   "outputs": [],
   "source": [
    "myschema= StructType([ \n",
    "                      StructField(\"userID\", IntegerType(), True),\n",
    "                      StructField(\"name\", StringType(), True), \n",
    "                      StructField(\"age\",IntegerType(), True), \n",
    "                      StructField(\"friends\", IntegerType(), True),\n",
    "                     ])"
   ]
  },
  {
   "cell_type": "code",
   "execution_count": 33,
   "id": "c59b7851",
   "metadata": {},
   "outputs": [],
   "source": [
    "people = spark.read.format(\"csv\") \\\n",
    "    .schema (myschema) \\\n",
    "    .option(\"path\", \"example.csv\")\\\n",
    "    .load()\n"
   ]
  },
  {
   "cell_type": "code",
   "execution_count": 34,
   "id": "f117bd97",
   "metadata": {},
   "outputs": [],
   "source": [
    "output = people.select(people.userID,people.name\\\n",
    "                       ,people.age,people.friends)\\\n",
    "         .where(people.age < 30).withColumn('insert_ts', func.current_timestamp())\\\n",
    "         .orderBy(people.userID)"
   ]
  },
  {
   "cell_type": "code",
   "execution_count": 35,
   "id": "a6dad018",
   "metadata": {},
   "outputs": [
    {
     "data": {
      "text/plain": [
       "112"
      ]
     },
     "execution_count": 35,
     "metadata": {},
     "output_type": "execute_result"
    }
   ],
   "source": [
    "output.count()"
   ]
  },
  {
   "cell_type": "code",
   "execution_count": 36,
   "id": "735c486e",
   "metadata": {},
   "outputs": [],
   "source": [
    "output.createOrReplaceTempView(\"peoples\")"
   ]
  },
  {
   "cell_type": "code",
   "execution_count": 37,
   "id": "ebf5df17",
   "metadata": {},
   "outputs": [
    {
     "name": "stdout",
     "output_type": "stream",
     "text": [
      "+--------+---+-------+--------------------+\n",
      "|    name|age|friends|           insert_ts|\n",
      "+--------+---+-------+--------------------+\n",
      "|Jean-Luc| 26|      2|2023-05-08 01:04:...|\n",
      "|    Hugh| 27|    181|2023-05-08 01:04:...|\n",
      "|  Weyoun| 22|    323|2023-05-08 01:04:...|\n",
      "|   Miles| 19|    268|2023-05-08 01:04:...|\n",
      "|  Julian| 25|      1|2023-05-08 01:04:...|\n",
      "|     Ben| 21|    445|2023-05-08 01:04:...|\n",
      "|  Julian| 22|    100|2023-05-08 01:04:...|\n",
      "|     Nog| 26|    281|2023-05-08 01:04:...|\n",
      "| Beverly| 27|    305|2023-05-08 01:04:...|\n",
      "|    Morn| 25|     96|2023-05-08 01:04:...|\n",
      "|   Brunt| 24|     49|2023-05-08 01:04:...|\n",
      "|     Nog| 20|      1|2023-05-08 01:04:...|\n",
      "| Beverly| 19|    269|2023-05-08 01:04:...|\n",
      "|   Brunt| 19|      5|2023-05-08 01:04:...|\n",
      "|  Geordi| 20|    100|2023-05-08 01:04:...|\n",
      "|  Geordi| 21|    477|2023-05-08 01:04:...|\n",
      "|  Kasidy| 22|    179|2023-05-08 01:04:...|\n",
      "|   Brunt| 20|    384|2023-05-08 01:04:...|\n",
      "|     Ben| 28|    311|2023-05-08 01:04:...|\n",
      "|    Worf| 24|    492|2023-05-08 01:04:...|\n",
      "+--------+---+-------+--------------------+\n",
      "only showing top 20 rows\n",
      "\n"
     ]
    }
   ],
   "source": [
    "spark.sql(\"select name,age,friends,insert_ts from peoples\").show()"
   ]
  },
  {
   "cell_type": "code",
   "execution_count": 38,
   "id": "2f96076e",
   "metadata": {},
   "outputs": [
    {
     "data": {
      "text/html": [
       "\n",
       "            <div>\n",
       "                <p><b>SparkSession - in-memory</b></p>\n",
       "                \n",
       "        <div>\n",
       "            <p><b>SparkContext</b></p>\n",
       "\n",
       "            <p><a href=\"http://DESKTOP-9VK58RC:4041\">Spark UI</a></p>\n",
       "\n",
       "            <dl>\n",
       "              <dt>Version</dt>\n",
       "                <dd><code>v3.0.3</code></dd>\n",
       "              <dt>Master</dt>\n",
       "                <dd><code>local</code></dd>\n",
       "              <dt>AppName</dt>\n",
       "                <dd><code>TestSpark</code></dd>\n",
       "            </dl>\n",
       "        </div>\n",
       "        \n",
       "            </div>\n",
       "        "
      ],
      "text/plain": [
       "<pyspark.sql.session.SparkSession at 0x16d79340040>"
      ]
     },
     "execution_count": 38,
     "metadata": {},
     "output_type": "execute_result"
    }
   ],
   "source": [
    "spark"
   ]
  },
  {
   "cell_type": "code",
   "execution_count": 39,
   "id": "ce85d762",
   "metadata": {},
   "outputs": [
    {
     "name": "stdout",
     "output_type": "stream",
     "text": [
      "root\n",
      " |-- userID: integer (nullable = true)\n",
      " |-- name: string (nullable = true)\n",
      " |-- age: integer (nullable = true)\n",
      " |-- friends: integer (nullable = true)\n",
      "\n"
     ]
    }
   ],
   "source": [
    "people.printSchema()"
   ]
  },
  {
   "cell_type": "code",
   "execution_count": 40,
   "id": "1da2f79b",
   "metadata": {},
   "outputs": [],
   "source": [
    "from pyspark.sql.functions import *"
   ]
  },
  {
   "cell_type": "code",
   "execution_count": 41,
   "id": "f3fa97a2",
   "metadata": {},
   "outputs": [],
   "source": [
    "spark = SparkSession.\\\n",
    "builder.\\\n",
    "appName(\"sparksql\").\\\n",
    "getOrCreate()"
   ]
  },
  {
   "cell_type": "code",
   "execution_count": 42,
   "id": "871fe6e4",
   "metadata": {},
   "outputs": [],
   "source": [
    "data = spark.read.format('csv').\\\n",
    "option('inferSchema','true').\\\n",
    "option('header', 'true').\\\n",
    "option('path','example.csv').\\\n",
    "load()"
   ]
  },
  {
   "cell_type": "code",
   "execution_count": 43,
   "id": "735ed670",
   "metadata": {},
   "outputs": [
    {
     "data": {
      "text/plain": [
       "[Database(name='default', description='default database', locationUri='file:/C:/Users/rakes/spark-warehouse')]"
      ]
     },
     "execution_count": 43,
     "metadata": {},
     "output_type": "execute_result"
    }
   ],
   "source": [
    "spark.catalog.listDatabases()"
   ]
  },
  {
   "cell_type": "code",
   "execution_count": 44,
   "id": "3295816e",
   "metadata": {},
   "outputs": [
    {
     "data": {
      "text/plain": [
       "[Table(name='peoples', database=None, description=None, tableType='TEMPORARY', isTemporary=True)]"
      ]
     },
     "execution_count": 44,
     "metadata": {},
     "output_type": "execute_result"
    }
   ],
   "source": [
    "spark.catalog.listTables()"
   ]
  },
  {
   "cell_type": "code",
   "execution_count": 45,
   "id": "f3f215b9",
   "metadata": {},
   "outputs": [],
   "source": [
    "output.write\\\n",
    ".format(\"csv\").mode(\"overwrite\")\\\n",
    ".option(\"path\",\"file:/C:/Users/rakes/spark-warehouse\")\\\n",
    ".partitionBy(\"age\")\\\n",
    ".save()"
   ]
  },
  {
   "cell_type": "code",
   "execution_count": 46,
   "id": "b0628af2",
   "metadata": {},
   "outputs": [
    {
     "name": "stdout",
     "output_type": "stream",
     "text": [
      "root\n",
      " |-- 0: integer (nullable = true)\n",
      " |-- Will: string (nullable = true)\n",
      " |-- 33: integer (nullable = true)\n",
      " |-- 385: integer (nullable = true)\n",
      " |-- _c4: string (nullable = true)\n",
      "\n"
     ]
    }
   ],
   "source": [
    "data.printSchema()"
   ]
  },
  {
   "cell_type": "code",
   "execution_count": 47,
   "id": "34ae0023",
   "metadata": {},
   "outputs": [],
   "source": [
    "from pyspark.sql import SparkSession\n",
    "from pyspark.sql.types import *"
   ]
  },
  {
   "cell_type": "code",
   "execution_count": 48,
   "id": "5d14ca29",
   "metadata": {},
   "outputs": [],
   "source": [
    "schema= StructType([ \n",
    "                      StructField(\"InvoiceNo\", StringType(), True),\n",
    "                      StructField(\"Product\", StringType(), True), \n",
    "                      StructField(\"Quantity\",IntegerType(), True), \n",
    "                      StructField(\"Year\", IntegerType(), True),\n",
    "                     ])"
   ]
  },
  {
   "cell_type": "code",
   "execution_count": 49,
   "id": "a4561cdb",
   "metadata": {},
   "outputs": [],
   "source": [
    "spark=SparkSession.builder.appName(\"Dfwithpython\").getOrCreate()#for creating sparksession\n",
    "sc=spark.sparkContext"
   ]
  },
  {
   "cell_type": "code",
   "execution_count": 50,
   "id": "b49358ff",
   "metadata": {},
   "outputs": [],
   "source": [
    "df = spark.read.csv(\"Sample1.csv\",header=True,sep=\",\", schema = schema)"
   ]
  },
  {
   "cell_type": "code",
   "execution_count": 51,
   "id": "617bbfb8",
   "metadata": {},
   "outputs": [
    {
     "name": "stdout",
     "output_type": "stream",
     "text": [
      "+---------+-----------+--------+----+\n",
      "|InvoiceNo|    Product|Quantity|Year|\n",
      "+---------+-----------+--------+----+\n",
      "|        1|     Mobile|     100|2017|\n",
      "|        2|     Laptop|      50|2017|\n",
      "|        3|Accessories|     150|2017|\n",
      "|        4|  Furniture|      10|2017|\n",
      "|        5|     Mobile|     150|2018|\n",
      "|        6|     Laptop|     250|2018|\n",
      "|        7|Accessories|      60|2018|\n",
      "|        8|  Furniture|      20|2018|\n",
      "|        9|     Mobile|     250|2019|\n",
      "|       10|     Laptop|      10|2019|\n",
      "|       11|Accessories|      60|2019|\n",
      "|       12|  Furniture|     300|2019|\n",
      "+---------+-----------+--------+----+\n",
      "\n"
     ]
    }
   ],
   "source": [
    "df.show()"
   ]
  },
  {
   "cell_type": "code",
   "execution_count": 52,
   "id": "8c9e515d",
   "metadata": {},
   "outputs": [
    {
     "name": "stdout",
     "output_type": "stream",
     "text": [
      "+----+-------------+\n",
      "|Year|sum(Quantity)|\n",
      "+----+-------------+\n",
      "|2018|          480|\n",
      "|2019|          620|\n",
      "|2017|          310|\n",
      "+----+-------------+\n",
      "\n"
     ]
    }
   ],
   "source": [
    "dfplot=df.groupBy(\"Year\").sum(\"Quantity\")\n",
    "dfplot.show()"
   ]
  },
  {
   "cell_type": "code",
   "execution_count": 53,
   "id": "8f9b6991",
   "metadata": {},
   "outputs": [],
   "source": [
    "import matplotlib.pyplot as plt\n",
    "import pandas"
   ]
  },
  {
   "cell_type": "code",
   "execution_count": 54,
   "id": "718e08a9",
   "metadata": {},
   "outputs": [],
   "source": [
    "x=dfplot.toPandas()[\"Year\"].values.tolist()\n",
    "y=dfplot.toPandas()[\"sum(Quantity)\"].values.tolist()"
   ]
  },
  {
   "cell_type": "code",
   "execution_count": 55,
   "id": "9f560bbe",
   "metadata": {},
   "outputs": [
    {
     "data": {
      "image/png": "[encoded data removed]",
      "text/plain": [
       "<Figure size 432x288 with 1 Axes>"
      ]
     },
     "metadata": {
      "needs_background": "light"
     },
     "output_type": "display_data"
    }
   ],
   "source": [
    "plt.plot(x,y)\n",
    "plt.show()"
   ]
  },
  {
   "cell_type": "code",
   "execution_count": 56,
   "id": "01735761",
   "metadata": {},
   "outputs": [
    {
     "data": {
      "image/png": "[encoded data removed]",
      "text/plain": [
       "<Figure size 432x288 with 1 Axes>"
      ]
     },
     "metadata": {
      "needs_background": "light"
     },
     "output_type": "display_data"
    }
   ],
   "source": [
    "plt.bar(x,y)\n",
    "plt.show()"
   ]
  },
  {
   "cell_type": "code",
   "execution_count": 57,
   "id": "4ed4b1ea",
   "metadata": {},
   "outputs": [
    {
     "data": {
      "text/html": [
       "\n",
       "            <div>\n",
       "                <p><b>SparkSession - in-memory</b></p>\n",
       "                \n",
       "        <div>\n",
       "            <p><b>SparkContext</b></p>\n",
       "\n",
       "            <p><a href=\"http://DESKTOP-9VK58RC:4041\">Spark UI</a></p>\n",
       "\n",
       "            <dl>\n",
       "              <dt>Version</dt>\n",
       "                <dd><code>v3.0.3</code></dd>\n",
       "              <dt>Master</dt>\n",
       "                <dd><code>local</code></dd>\n",
       "              <dt>AppName</dt>\n",
       "                <dd><code>TestSpark</code></dd>\n",
       "            </dl>\n",
       "        </div>\n",
       "        \n",
       "            </div>\n",
       "        "
      ],
      "text/plain": [
       "<pyspark.sql.session.SparkSession at 0x16d79340040>"
      ]
     },
     "execution_count": 57,
     "metadata": {},
     "output_type": "execute_result"
    }
   ],
   "source": [
    "spark"
   ]
  },
  {
   "cell_type": "code",
   "execution_count": null,
   "id": "658a6a18",
   "metadata": {},
   "outputs": [],
   "source": []
  }
 ],
 "metadata": {
  "kernelspec": {
   "display_name": "Python 3 (ipykernel)",
   "language": "python",
   "name": "python3"
  },
  "language_info": {
   "codemirror_mode": {
    "name": "ipython",
    "version": 3
   },
   "file_extension": ".py",
   "mimetype": "text/x-python",
   "name": "python",
   "nbconvert_exporter": "python",
   "pygments_lexer": "ipython3",
   "version": "3.11.4"
  }
 },
 "nbformat": 4,
 "nbformat_minor": 5
}
